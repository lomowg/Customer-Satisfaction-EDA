{
 "cells": [
  {
   "cell_type": "markdown",
   "id": "2cf18167",
   "metadata": {},
   "source": [
    "# Import libraries"
   ]
  },
  {
   "cell_type": "code",
   "execution_count": 1,
   "id": "1decfa8b",
   "metadata": {},
   "outputs": [],
   "source": [
    "import numpy as np\n",
    "import pandas as pd\n",
    "import matplotlib.pyplot as plt\n",
    "import seaborn as sns\n",
    "from scipy import stats\n",
    "import statsmodels.api as sms\n",
    "import warnings\n",
    "\n",
    "warnings.simplefilter(action='ignore')\n",
    "%matplotlib inline"
   ]
  },
  {
   "cell_type": "markdown",
   "id": "a3404a74",
   "metadata": {},
   "source": [
    "# Uploading datasets"
   ]
  },
  {
   "cell_type": "code",
   "execution_count": 2,
   "id": "7cdc7d69",
   "metadata": {},
   "outputs": [
    {
     "data": {
      "text/html": [
       "<div>\n",
       "<style scoped>\n",
       "    .dataframe tbody tr th:only-of-type {\n",
       "        vertical-align: middle;\n",
       "    }\n",
       "\n",
       "    .dataframe tbody tr th {\n",
       "        vertical-align: top;\n",
       "    }\n",
       "\n",
       "    .dataframe thead th {\n",
       "        text-align: right;\n",
       "    }\n",
       "</style>\n",
       "<table border=\"1\" class=\"dataframe\">\n",
       "  <thead>\n",
       "    <tr style=\"text-align: right;\">\n",
       "      <th></th>\n",
       "      <th>Customer</th>\n",
       "      <th>How satisfied were you with your overall delivery experience at Ali?                    1-5 where 1 = extremely dissatisfied and 5 = extremely satisfied</th>\n",
       "      <th>How satisfied were you with the quality of the food at Alis?                             1-5 where 1 = extremely dissatisfied and 5 = extremely satisfied</th>\n",
       "      <th>How satisfied were you with the speed of delivery at Alis?                                1-5 where 1 = extremely dissatisfied and 5 = extremely satisfied</th>\n",
       "      <th>Was your order accurate? Please respond yes or no.</th>\n",
       "    </tr>\n",
       "  </thead>\n",
       "  <tbody>\n",
       "    <tr>\n",
       "      <th>0</th>\n",
       "      <td>1</td>\n",
       "      <td>5.0</td>\n",
       "      <td>3.0</td>\n",
       "      <td>4.0</td>\n",
       "      <td>Yes</td>\n",
       "    </tr>\n",
       "    <tr>\n",
       "      <th>1</th>\n",
       "      <td>2</td>\n",
       "      <td>3.0</td>\n",
       "      <td>4.0</td>\n",
       "      <td>3.0</td>\n",
       "      <td>Yes</td>\n",
       "    </tr>\n",
       "    <tr>\n",
       "      <th>2</th>\n",
       "      <td>3</td>\n",
       "      <td>4.0</td>\n",
       "      <td>5.0</td>\n",
       "      <td>2.0</td>\n",
       "      <td>Yes</td>\n",
       "    </tr>\n",
       "    <tr>\n",
       "      <th>3</th>\n",
       "      <td>4</td>\n",
       "      <td>5.0</td>\n",
       "      <td>3.0</td>\n",
       "      <td>4.0</td>\n",
       "      <td>Yes</td>\n",
       "    </tr>\n",
       "    <tr>\n",
       "      <th>4</th>\n",
       "      <td>5</td>\n",
       "      <td>2.0</td>\n",
       "      <td>5.0</td>\n",
       "      <td>1.0</td>\n",
       "      <td>Yes</td>\n",
       "    </tr>\n",
       "    <tr>\n",
       "      <th>...</th>\n",
       "      <td>...</td>\n",
       "      <td>...</td>\n",
       "      <td>...</td>\n",
       "      <td>...</td>\n",
       "      <td>...</td>\n",
       "    </tr>\n",
       "    <tr>\n",
       "      <th>10611</th>\n",
       "      <td>10612</td>\n",
       "      <td>4.0</td>\n",
       "      <td>2.0</td>\n",
       "      <td>3.0</td>\n",
       "      <td>Yes</td>\n",
       "    </tr>\n",
       "    <tr>\n",
       "      <th>10612</th>\n",
       "      <td>10613</td>\n",
       "      <td>3.0</td>\n",
       "      <td>3.0</td>\n",
       "      <td>3.0</td>\n",
       "      <td>Yes</td>\n",
       "    </tr>\n",
       "    <tr>\n",
       "      <th>10613</th>\n",
       "      <td>10614</td>\n",
       "      <td>5.0</td>\n",
       "      <td>3.0</td>\n",
       "      <td>3.0</td>\n",
       "      <td>Yes</td>\n",
       "    </tr>\n",
       "    <tr>\n",
       "      <th>10614</th>\n",
       "      <td>10615</td>\n",
       "      <td>3.0</td>\n",
       "      <td>3.0</td>\n",
       "      <td>3.0</td>\n",
       "      <td>Yes</td>\n",
       "    </tr>\n",
       "    <tr>\n",
       "      <th>10615</th>\n",
       "      <td>10616</td>\n",
       "      <td>1.0</td>\n",
       "      <td>3.0</td>\n",
       "      <td>3.0</td>\n",
       "      <td>Yes</td>\n",
       "    </tr>\n",
       "  </tbody>\n",
       "</table>\n",
       "<p>10616 rows × 5 columns</p>\n",
       "</div>"
      ],
      "text/plain": [
       "       Customer  \\\n",
       "0             1   \n",
       "1             2   \n",
       "2             3   \n",
       "3             4   \n",
       "4             5   \n",
       "...         ...   \n",
       "10611     10612   \n",
       "10612     10613   \n",
       "10613     10614   \n",
       "10614     10615   \n",
       "10615     10616   \n",
       "\n",
       "       How satisfied were you with your overall delivery experience at Ali?                    1-5 where 1 = extremely dissatisfied and 5 = extremely satisfied  \\\n",
       "0                                                    5.0                                                                                                          \n",
       "1                                                    3.0                                                                                                          \n",
       "2                                                    4.0                                                                                                          \n",
       "3                                                    5.0                                                                                                          \n",
       "4                                                    2.0                                                                                                          \n",
       "...                                                  ...                                                                                                          \n",
       "10611                                                4.0                                                                                                          \n",
       "10612                                                3.0                                                                                                          \n",
       "10613                                                5.0                                                                                                          \n",
       "10614                                                3.0                                                                                                          \n",
       "10615                                                1.0                                                                                                          \n",
       "\n",
       "       How satisfied were you with the quality of the food at Alis?                             1-5 where 1 = extremely dissatisfied and 5 = extremely satisfied  \\\n",
       "0                                                    3.0                                                                                                           \n",
       "1                                                    4.0                                                                                                           \n",
       "2                                                    5.0                                                                                                           \n",
       "3                                                    3.0                                                                                                           \n",
       "4                                                    5.0                                                                                                           \n",
       "...                                                  ...                                                                                                           \n",
       "10611                                                2.0                                                                                                           \n",
       "10612                                                3.0                                                                                                           \n",
       "10613                                                3.0                                                                                                           \n",
       "10614                                                3.0                                                                                                           \n",
       "10615                                                3.0                                                                                                           \n",
       "\n",
       "       How satisfied were you with the speed of delivery at Alis?                                1-5 where 1 = extremely dissatisfied and 5 = extremely satisfied  \\\n",
       "0                                                    4.0                                                                                                            \n",
       "1                                                    3.0                                                                                                            \n",
       "2                                                    2.0                                                                                                            \n",
       "3                                                    4.0                                                                                                            \n",
       "4                                                    1.0                                                                                                            \n",
       "...                                                  ...                                                                                                            \n",
       "10611                                                3.0                                                                                                            \n",
       "10612                                                3.0                                                                                                            \n",
       "10613                                                3.0                                                                                                            \n",
       "10614                                                3.0                                                                                                            \n",
       "10615                                                3.0                                                                                                            \n",
       "\n",
       "      Was your order accurate? Please respond yes or no.  \n",
       "0                                                    Yes  \n",
       "1                                                    Yes  \n",
       "2                                                    Yes  \n",
       "3                                                    Yes  \n",
       "4                                                    Yes  \n",
       "...                                                  ...  \n",
       "10611                                                Yes  \n",
       "10612                                                Yes  \n",
       "10613                                                Yes  \n",
       "10614                                                Yes  \n",
       "10615                                                Yes  \n",
       "\n",
       "[10616 rows x 5 columns]"
      ]
     },
     "execution_count": 2,
     "metadata": {},
     "output_type": "execute_result"
    }
   ],
   "source": [
    "df = pd.read_csv('data-sets/Customer-survey-data.csv')\n",
    "df"
   ]
  },
  {
   "cell_type": "markdown",
   "id": "6c880fb8",
   "metadata": {},
   "source": [
    "# Preparing data for analysis"
   ]
  },
  {
   "cell_type": "markdown",
   "id": "594dc98a",
   "metadata": {},
   "source": [
    "## Renaming the columns"
   ]
  },
  {
   "cell_type": "code",
   "execution_count": 3,
   "id": "bf5a6cb2",
   "metadata": {},
   "outputs": [
    {
     "data": {
      "text/html": [
       "<div>\n",
       "<style scoped>\n",
       "    .dataframe tbody tr th:only-of-type {\n",
       "        vertical-align: middle;\n",
       "    }\n",
       "\n",
       "    .dataframe tbody tr th {\n",
       "        vertical-align: top;\n",
       "    }\n",
       "\n",
       "    .dataframe thead th {\n",
       "        text-align: right;\n",
       "    }\n",
       "</style>\n",
       "<table border=\"1\" class=\"dataframe\">\n",
       "  <thead>\n",
       "    <tr style=\"text-align: right;\">\n",
       "      <th></th>\n",
       "      <th>customer_id</th>\n",
       "      <th>delivery_score</th>\n",
       "      <th>food_score</th>\n",
       "      <th>time_score</th>\n",
       "      <th>correct_order</th>\n",
       "    </tr>\n",
       "  </thead>\n",
       "  <tbody>\n",
       "    <tr>\n",
       "      <th>0</th>\n",
       "      <td>1</td>\n",
       "      <td>5.0</td>\n",
       "      <td>3.0</td>\n",
       "      <td>4.0</td>\n",
       "      <td>Yes</td>\n",
       "    </tr>\n",
       "    <tr>\n",
       "      <th>1</th>\n",
       "      <td>2</td>\n",
       "      <td>3.0</td>\n",
       "      <td>4.0</td>\n",
       "      <td>3.0</td>\n",
       "      <td>Yes</td>\n",
       "    </tr>\n",
       "    <tr>\n",
       "      <th>2</th>\n",
       "      <td>3</td>\n",
       "      <td>4.0</td>\n",
       "      <td>5.0</td>\n",
       "      <td>2.0</td>\n",
       "      <td>Yes</td>\n",
       "    </tr>\n",
       "    <tr>\n",
       "      <th>3</th>\n",
       "      <td>4</td>\n",
       "      <td>5.0</td>\n",
       "      <td>3.0</td>\n",
       "      <td>4.0</td>\n",
       "      <td>Yes</td>\n",
       "    </tr>\n",
       "    <tr>\n",
       "      <th>4</th>\n",
       "      <td>5</td>\n",
       "      <td>2.0</td>\n",
       "      <td>5.0</td>\n",
       "      <td>1.0</td>\n",
       "      <td>Yes</td>\n",
       "    </tr>\n",
       "    <tr>\n",
       "      <th>...</th>\n",
       "      <td>...</td>\n",
       "      <td>...</td>\n",
       "      <td>...</td>\n",
       "      <td>...</td>\n",
       "      <td>...</td>\n",
       "    </tr>\n",
       "    <tr>\n",
       "      <th>10611</th>\n",
       "      <td>10612</td>\n",
       "      <td>4.0</td>\n",
       "      <td>2.0</td>\n",
       "      <td>3.0</td>\n",
       "      <td>Yes</td>\n",
       "    </tr>\n",
       "    <tr>\n",
       "      <th>10612</th>\n",
       "      <td>10613</td>\n",
       "      <td>3.0</td>\n",
       "      <td>3.0</td>\n",
       "      <td>3.0</td>\n",
       "      <td>Yes</td>\n",
       "    </tr>\n",
       "    <tr>\n",
       "      <th>10613</th>\n",
       "      <td>10614</td>\n",
       "      <td>5.0</td>\n",
       "      <td>3.0</td>\n",
       "      <td>3.0</td>\n",
       "      <td>Yes</td>\n",
       "    </tr>\n",
       "    <tr>\n",
       "      <th>10614</th>\n",
       "      <td>10615</td>\n",
       "      <td>3.0</td>\n",
       "      <td>3.0</td>\n",
       "      <td>3.0</td>\n",
       "      <td>Yes</td>\n",
       "    </tr>\n",
       "    <tr>\n",
       "      <th>10615</th>\n",
       "      <td>10616</td>\n",
       "      <td>1.0</td>\n",
       "      <td>3.0</td>\n",
       "      <td>3.0</td>\n",
       "      <td>Yes</td>\n",
       "    </tr>\n",
       "  </tbody>\n",
       "</table>\n",
       "<p>10616 rows × 5 columns</p>\n",
       "</div>"
      ],
      "text/plain": [
       "       customer_id  delivery_score  food_score  time_score correct_order\n",
       "0                1             5.0         3.0         4.0           Yes\n",
       "1                2             3.0         4.0         3.0           Yes\n",
       "2                3             4.0         5.0         2.0           Yes\n",
       "3                4             5.0         3.0         4.0           Yes\n",
       "4                5             2.0         5.0         1.0           Yes\n",
       "...            ...             ...         ...         ...           ...\n",
       "10611        10612             4.0         2.0         3.0           Yes\n",
       "10612        10613             3.0         3.0         3.0           Yes\n",
       "10613        10614             5.0         3.0         3.0           Yes\n",
       "10614        10615             3.0         3.0         3.0           Yes\n",
       "10615        10616             1.0         3.0         3.0           Yes\n",
       "\n",
       "[10616 rows x 5 columns]"
      ]
     },
     "execution_count": 3,
     "metadata": {},
     "output_type": "execute_result"
    }
   ],
   "source": [
    "df = df.rename(columns={'Customer': 'customer_id',\n",
    "       'How satisfied were you with your overall delivery experience at Ali?                    1-5 where 1 = extremely dissatisfied and 5 = extremely satisfied': 'delivery_score',\n",
    "       'How satisfied were you with the quality of the food at Alis?                             1-5 where 1 = extremely dissatisfied and 5 = extremely satisfied': 'food_score',\n",
    "       'How satisfied were you with the speed of delivery at Alis?                                1-5 where 1 = extremely dissatisfied and 5 = extremely satisfied': 'time_score',\n",
    "       'Was your order accurate? Please respond yes or no.': 'correct_order'})\n",
    "df"
   ]
  },
  {
   "cell_type": "markdown",
   "id": "fb19f2aa",
   "metadata": {},
   "source": [
    "## Replacing the values"
   ]
  },
  {
   "cell_type": "code",
   "execution_count": 4,
   "id": "7b0427e7",
   "metadata": {},
   "outputs": [
    {
     "data": {
      "text/html": [
       "<div>\n",
       "<style scoped>\n",
       "    .dataframe tbody tr th:only-of-type {\n",
       "        vertical-align: middle;\n",
       "    }\n",
       "\n",
       "    .dataframe tbody tr th {\n",
       "        vertical-align: top;\n",
       "    }\n",
       "\n",
       "    .dataframe thead th {\n",
       "        text-align: right;\n",
       "    }\n",
       "</style>\n",
       "<table border=\"1\" class=\"dataframe\">\n",
       "  <thead>\n",
       "    <tr style=\"text-align: right;\">\n",
       "      <th></th>\n",
       "      <th>customer_id</th>\n",
       "      <th>delivery_score</th>\n",
       "      <th>food_score</th>\n",
       "      <th>time_score</th>\n",
       "      <th>correct_order</th>\n",
       "    </tr>\n",
       "  </thead>\n",
       "  <tbody>\n",
       "    <tr>\n",
       "      <th>0</th>\n",
       "      <td>1</td>\n",
       "      <td>5.0</td>\n",
       "      <td>3.0</td>\n",
       "      <td>4.0</td>\n",
       "      <td>1.0</td>\n",
       "    </tr>\n",
       "    <tr>\n",
       "      <th>1</th>\n",
       "      <td>2</td>\n",
       "      <td>3.0</td>\n",
       "      <td>4.0</td>\n",
       "      <td>3.0</td>\n",
       "      <td>1.0</td>\n",
       "    </tr>\n",
       "    <tr>\n",
       "      <th>2</th>\n",
       "      <td>3</td>\n",
       "      <td>4.0</td>\n",
       "      <td>5.0</td>\n",
       "      <td>2.0</td>\n",
       "      <td>1.0</td>\n",
       "    </tr>\n",
       "    <tr>\n",
       "      <th>3</th>\n",
       "      <td>4</td>\n",
       "      <td>5.0</td>\n",
       "      <td>3.0</td>\n",
       "      <td>4.0</td>\n",
       "      <td>1.0</td>\n",
       "    </tr>\n",
       "    <tr>\n",
       "      <th>4</th>\n",
       "      <td>5</td>\n",
       "      <td>2.0</td>\n",
       "      <td>5.0</td>\n",
       "      <td>1.0</td>\n",
       "      <td>1.0</td>\n",
       "    </tr>\n",
       "    <tr>\n",
       "      <th>...</th>\n",
       "      <td>...</td>\n",
       "      <td>...</td>\n",
       "      <td>...</td>\n",
       "      <td>...</td>\n",
       "      <td>...</td>\n",
       "    </tr>\n",
       "    <tr>\n",
       "      <th>10611</th>\n",
       "      <td>10612</td>\n",
       "      <td>4.0</td>\n",
       "      <td>2.0</td>\n",
       "      <td>3.0</td>\n",
       "      <td>1.0</td>\n",
       "    </tr>\n",
       "    <tr>\n",
       "      <th>10612</th>\n",
       "      <td>10613</td>\n",
       "      <td>3.0</td>\n",
       "      <td>3.0</td>\n",
       "      <td>3.0</td>\n",
       "      <td>1.0</td>\n",
       "    </tr>\n",
       "    <tr>\n",
       "      <th>10613</th>\n",
       "      <td>10614</td>\n",
       "      <td>5.0</td>\n",
       "      <td>3.0</td>\n",
       "      <td>3.0</td>\n",
       "      <td>1.0</td>\n",
       "    </tr>\n",
       "    <tr>\n",
       "      <th>10614</th>\n",
       "      <td>10615</td>\n",
       "      <td>3.0</td>\n",
       "      <td>3.0</td>\n",
       "      <td>3.0</td>\n",
       "      <td>1.0</td>\n",
       "    </tr>\n",
       "    <tr>\n",
       "      <th>10615</th>\n",
       "      <td>10616</td>\n",
       "      <td>1.0</td>\n",
       "      <td>3.0</td>\n",
       "      <td>3.0</td>\n",
       "      <td>1.0</td>\n",
       "    </tr>\n",
       "  </tbody>\n",
       "</table>\n",
       "<p>10616 rows × 5 columns</p>\n",
       "</div>"
      ],
      "text/plain": [
       "       customer_id  delivery_score  food_score  time_score  correct_order\n",
       "0                1             5.0         3.0         4.0            1.0\n",
       "1                2             3.0         4.0         3.0            1.0\n",
       "2                3             4.0         5.0         2.0            1.0\n",
       "3                4             5.0         3.0         4.0            1.0\n",
       "4                5             2.0         5.0         1.0            1.0\n",
       "...            ...             ...         ...         ...            ...\n",
       "10611        10612             4.0         2.0         3.0            1.0\n",
       "10612        10613             3.0         3.0         3.0            1.0\n",
       "10613        10614             5.0         3.0         3.0            1.0\n",
       "10614        10615             3.0         3.0         3.0            1.0\n",
       "10615        10616             1.0         3.0         3.0            1.0\n",
       "\n",
       "[10616 rows x 5 columns]"
      ]
     },
     "execution_count": 4,
     "metadata": {},
     "output_type": "execute_result"
    }
   ],
   "source": [
    "df['correct_order'] = df['correct_order'].apply(lambda x: 1 if x == 'Yes' else 0 if x == 'No' else x)\n",
    "df"
   ]
  },
  {
   "cell_type": "markdown",
   "id": "2b8b04e9",
   "metadata": {},
   "source": [
    "## Check the values for missing"
   ]
  },
  {
   "cell_type": "code",
   "execution_count": 5,
   "id": "d64ed06e",
   "metadata": {},
   "outputs": [
    {
     "data": {
      "text/plain": [
       "customer_id         0\n",
       "delivery_score    418\n",
       "food_score        252\n",
       "time_score        239\n",
       "correct_order     660\n",
       "dtype: int64"
      ]
     },
     "execution_count": 5,
     "metadata": {},
     "output_type": "execute_result"
    }
   ],
   "source": [
    "df.isna().sum()"
   ]
  },
  {
   "cell_type": "markdown",
   "id": "6c33ac0d",
   "metadata": {},
   "source": [
    "To save the distribution, let's fill in the missing values with median values"
   ]
  },
  {
   "cell_type": "code",
   "execution_count": 6,
   "id": "4655ed49",
   "metadata": {},
   "outputs": [
    {
     "data": {
      "text/plain": [
       "customer_id       0\n",
       "delivery_score    0\n",
       "food_score        0\n",
       "time_score        0\n",
       "correct_order     0\n",
       "dtype: int64"
      ]
     },
     "execution_count": 6,
     "metadata": {},
     "output_type": "execute_result"
    }
   ],
   "source": [
    "for col in df:\n",
    "    df[col] = df[col].fillna(df[col].median())\n",
    "df.isna().sum()"
   ]
  },
  {
   "cell_type": "markdown",
   "id": "924ed1b4",
   "metadata": {},
   "source": [
    "Done"
   ]
  },
  {
   "cell_type": "markdown",
   "id": "0fd5c8e8",
   "metadata": {},
   "source": [
    "## Check the data types"
   ]
  },
  {
   "cell_type": "code",
   "execution_count": 7,
   "id": "56cdddb3",
   "metadata": {},
   "outputs": [
    {
     "data": {
      "text/plain": [
       "customer_id         int64\n",
       "delivery_score    float64\n",
       "food_score        float64\n",
       "time_score        float64\n",
       "correct_order     float64\n",
       "dtype: object"
      ]
     },
     "execution_count": 7,
     "metadata": {},
     "output_type": "execute_result"
    }
   ],
   "source": [
    "df.dtypes"
   ]
  },
  {
   "cell_type": "markdown",
   "id": "a4479374",
   "metadata": {},
   "source": [
    "It's all right."
   ]
  },
  {
   "cell_type": "markdown",
   "id": "60c3721e",
   "metadata": {},
   "source": [
    "## General information"
   ]
  },
  {
   "cell_type": "code",
   "execution_count": 8,
   "id": "854201cc",
   "metadata": {},
   "outputs": [
    {
     "data": {
      "text/html": [
       "<div>\n",
       "<style scoped>\n",
       "    .dataframe tbody tr th:only-of-type {\n",
       "        vertical-align: middle;\n",
       "    }\n",
       "\n",
       "    .dataframe tbody tr th {\n",
       "        vertical-align: top;\n",
       "    }\n",
       "\n",
       "    .dataframe thead th {\n",
       "        text-align: right;\n",
       "    }\n",
       "</style>\n",
       "<table border=\"1\" class=\"dataframe\">\n",
       "  <thead>\n",
       "    <tr style=\"text-align: right;\">\n",
       "      <th></th>\n",
       "      <th>customer_id</th>\n",
       "      <th>delivery_score</th>\n",
       "      <th>food_score</th>\n",
       "      <th>time_score</th>\n",
       "      <th>correct_order</th>\n",
       "    </tr>\n",
       "  </thead>\n",
       "  <tbody>\n",
       "    <tr>\n",
       "      <th>count</th>\n",
       "      <td>10616.000000</td>\n",
       "      <td>10616.000000</td>\n",
       "      <td>10616.000000</td>\n",
       "      <td>10616.000000</td>\n",
       "      <td>10616.000000</td>\n",
       "    </tr>\n",
       "    <tr>\n",
       "      <th>mean</th>\n",
       "      <td>5308.500000</td>\n",
       "      <td>3.312453</td>\n",
       "      <td>3.324133</td>\n",
       "      <td>3.315656</td>\n",
       "      <td>0.732008</td>\n",
       "    </tr>\n",
       "    <tr>\n",
       "      <th>std</th>\n",
       "      <td>3064.719563</td>\n",
       "      <td>1.392957</td>\n",
       "      <td>1.398730</td>\n",
       "      <td>1.393790</td>\n",
       "      <td>0.442934</td>\n",
       "    </tr>\n",
       "    <tr>\n",
       "      <th>min</th>\n",
       "      <td>1.000000</td>\n",
       "      <td>1.000000</td>\n",
       "      <td>1.000000</td>\n",
       "      <td>1.000000</td>\n",
       "      <td>0.000000</td>\n",
       "    </tr>\n",
       "    <tr>\n",
       "      <th>25%</th>\n",
       "      <td>2654.750000</td>\n",
       "      <td>2.000000</td>\n",
       "      <td>2.000000</td>\n",
       "      <td>2.000000</td>\n",
       "      <td>0.000000</td>\n",
       "    </tr>\n",
       "    <tr>\n",
       "      <th>50%</th>\n",
       "      <td>5308.500000</td>\n",
       "      <td>3.000000</td>\n",
       "      <td>3.000000</td>\n",
       "      <td>3.000000</td>\n",
       "      <td>1.000000</td>\n",
       "    </tr>\n",
       "    <tr>\n",
       "      <th>75%</th>\n",
       "      <td>7962.250000</td>\n",
       "      <td>5.000000</td>\n",
       "      <td>5.000000</td>\n",
       "      <td>5.000000</td>\n",
       "      <td>1.000000</td>\n",
       "    </tr>\n",
       "    <tr>\n",
       "      <th>max</th>\n",
       "      <td>10616.000000</td>\n",
       "      <td>5.000000</td>\n",
       "      <td>5.000000</td>\n",
       "      <td>5.000000</td>\n",
       "      <td>1.000000</td>\n",
       "    </tr>\n",
       "  </tbody>\n",
       "</table>\n",
       "</div>"
      ],
      "text/plain": [
       "        customer_id  delivery_score    food_score    time_score  correct_order\n",
       "count  10616.000000    10616.000000  10616.000000  10616.000000   10616.000000\n",
       "mean    5308.500000        3.312453      3.324133      3.315656       0.732008\n",
       "std     3064.719563        1.392957      1.398730      1.393790       0.442934\n",
       "min        1.000000        1.000000      1.000000      1.000000       0.000000\n",
       "25%     2654.750000        2.000000      2.000000      2.000000       0.000000\n",
       "50%     5308.500000        3.000000      3.000000      3.000000       1.000000\n",
       "75%     7962.250000        5.000000      5.000000      5.000000       1.000000\n",
       "max    10616.000000        5.000000      5.000000      5.000000       1.000000"
      ]
     },
     "execution_count": 8,
     "metadata": {},
     "output_type": "execute_result"
    }
   ],
   "source": [
    "df.describe()"
   ]
  },
  {
   "cell_type": "markdown",
   "id": "98fc4281",
   "metadata": {},
   "source": [
    "# Analysis"
   ]
  },
  {
   "cell_type": "markdown",
   "id": "9ba95435",
   "metadata": {},
   "source": [
    "## Distribution of scores"
   ]
  },
  {
   "cell_type": "code",
   "execution_count": 9,
   "id": "e87d54fb",
   "metadata": {},
   "outputs": [
    {
     "data": {
      "image/png": "[encoded data removed]",
      "text/plain": [
       "<Figure size 1000x800 with 4 Axes>"
      ]
     },
     "metadata": {},
     "output_type": "display_data"
    }
   ],
   "source": [
    "sns.set_style('whitegrid')\n",
    "\n",
    "fig, ax = plt.subplots(2, 2, figsize=(10, 8))\n",
    "sns.histplot(data=df['delivery_score'], discrete=True, ax=ax[0, 0])\n",
    "sns.histplot(data=df['food_score'], discrete=True, ax=ax[0, 1])\n",
    "sns.histplot(data=df['time_score'], discrete=True, ax=ax[1, 0])\n",
    "sns.histplot(data=df['correct_order'], discrete=True, ax=ax[1, 1])\n",
    "\n",
    "plt.suptitle('Distribution of scores')\n",
    "plt.show()"
   ]
  },
  {
   "cell_type": "markdown",
   "id": "97d2d6f0",
   "metadata": {},
   "source": [
    "The distribution of the 3 grades is very similar, with the majority of grades being 5. Most of them received the correct orders, we can see on the 4th graph"
   ]
  },
  {
   "cell_type": "markdown",
   "id": "42b06177",
   "metadata": {},
   "source": [
    "##  Boxplot of sum scores"
   ]
  },
  {
   "cell_type": "code",
   "execution_count": 21,
   "id": "b9c6568d",
   "metadata": {},
   "outputs": [],
   "source": [
    "df_1 = df[df['correct_order'] == 1]\n",
    "df_0 = df[df['correct_order'] == 0]\n",
    "df_1['sum_score'] = df_1.iloc[:, 1:4].sum(axis=1)\n",
    "df_0['sum_score'] = df_0.iloc[:, 1:4].sum(axis=1)"
   ]
  },
  {
   "cell_type": "code",
   "execution_count": 23,
   "id": "08db771d",
   "metadata": {},
   "outputs": [
    {
     "data": {
      "image/png": "[encoded data removed]",
      "text/plain": [
       "<Figure size 1000x600 with 1 Axes>"
      ]
     },
     "metadata": {},
     "output_type": "display_data"
    }
   ],
   "source": [
    "plt.figure(figsize=(10, 6))\n",
    "sns.boxplot(data=[df_1['sum_score'], df_0['sum_score']])\n",
    "\n",
    "plt.xticks([0, 1], ['correct order', 'incorrect order'])\n",
    "plt.ylabel('sum score')\n",
    "plt.title('Boxplot of sum scores for correct/incorrect orders')\n",
    "\n",
    "plt.show()"
   ]
  },
  {
   "cell_type": "markdown",
   "id": "73c5ed91",
   "metadata": {},
   "source": [
    "The median in imprecise orders is lower than in precise orders. Also, the interquartile range is tighter. This may be a consequence of the fact that customers tend to underestimate other scores when receiving the wrong order"
   ]
  },
  {
   "cell_type": "markdown",
   "id": "a7d57ac5",
   "metadata": {},
   "source": [
    "## Maximum scores"
   ]
  },
  {
   "cell_type": "code",
   "execution_count": 40,
   "id": "718a0805",
   "metadata": {},
   "outputs": [
    {
     "data": {
      "image/png": "[encoded data removed]",
      "text/plain": [
       "<Figure size 1000x600 with 1 Axes>"
      ]
     },
     "metadata": {},
     "output_type": "display_data"
    }
   ],
   "source": [
    "df_max = df.iloc[:, 1:].idxmax(axis=1).value_counts().to_frame().T\n",
    "\n",
    "plt.figure(figsize=(10, 6))\n",
    "sns.barplot(data=df_max)\n",
    "\n",
    "plt.title('Maximum scores')\n",
    "plt.xlabel('Score')\n",
    "plt.ylabel('Number of times the score was maximised')\n",
    "\n",
    "plt.show()"
   ]
  },
  {
   "cell_type": "markdown",
   "id": "4372157c",
   "metadata": {},
   "source": [
    "From the graph, we can see that delivery_score has the biggest impact on the customer's total score"
   ]
  },
  {
   "cell_type": "markdown",
   "id": "770cf1d8",
   "metadata": {},
   "source": [
    "# Correlation analysis"
   ]
  },
  {
   "cell_type": "code",
   "execution_count": 25,
   "id": "e1777927",
   "metadata": {},
   "outputs": [
    {
     "data": {
      "image/png": "[encoded data removed]",
      "text/plain": [
       "<Figure size 640x480 with 2 Axes>"
      ]
     },
     "metadata": {},
     "output_type": "display_data"
    }
   ],
   "source": [
    "sns.heatmap(data=df.iloc[:, 1:].corr(), annot=True)\n",
    "\n",
    "plt.show()"
   ]
  },
  {
   "cell_type": "markdown",
   "id": "e4894e5f",
   "metadata": {},
   "source": [
    "Scores on delivery time and food quality are most correlated. This may be due to the fact that the faster the order is delivered, the better the food is saved. Score of delivery quality and food quality are moderately correlated."
   ]
  },
  {
   "cell_type": "markdown",
   "id": "744dfd02",
   "metadata": {},
   "source": [
    "# Conclusion"
   ]
  },
  {
   "cell_type": "markdown",
   "id": "a9eed238",
   "metadata": {},
   "source": [
    "It can be seen that most customers are satisfied with the service and food quality, which is reflected in the high scores. It is also visible that the correctness of order fulfilment strongly influences the overall customer satisfaction.\n",
    "\n",
    "Interestingly, boxplot shows that when order fulfilment is incorrect, the median total score is lower and the interquartile range is smaller. This is probably due to the fact that customers tend to lower their scores on other criteria if they receive an incorrect order.\n",
    "\n",
    "The maximum score analysis also shows that the delivery score has the greatest impact on the customer's overall score.\n",
    "\n",
    "Correlation analysis confirms that delivery time and food quality scores have the highest correlation. This may be because faster delivery favours food quality.\n",
    "\n",
    "Overall, these results provide useful insights for improving customer service and satisfaction."
   ]
  }
 ],
 "metadata": {
  "kernelspec": {
   "display_name": "Python 3 (ipykernel)",
   "language": "python",
   "name": "python3"
  },
  "language_info": {
   "codemirror_mode": {
    "name": "ipython",
    "version": 3
   },
   "file_extension": ".py",
   "mimetype": "text/x-python",
   "name": "python",
   "nbconvert_exporter": "python",
   "pygments_lexer": "ipython3",
   "version": "3.11.4"
  }
 },
 "nbformat": 4,
 "nbformat_minor": 5
}
